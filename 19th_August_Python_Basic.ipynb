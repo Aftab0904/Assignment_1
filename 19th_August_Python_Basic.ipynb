{
 "cells": [
  {
   "cell_type": "code",
   "execution_count": 2,
   "id": "facd3d4e-0694-4732-b520-699dfaef6020",
   "metadata": {},
   "outputs": [],
   "source": [
    "#Question 1\n",
    "x=30\n",
    "y=40\n",
    "x,y=y,x"
   ]
  },
  {
   "cell_type": "code",
   "execution_count": 3,
   "id": "d8bd564c-36e5-483c-bacf-05b2dbf9bb4b",
   "metadata": {},
   "outputs": [
    {
     "data": {
      "text/plain": [
       "40"
      ]
     },
     "execution_count": 3,
     "metadata": {},
     "output_type": "execute_result"
    }
   ],
   "source": [
    "x"
   ]
  },
  {
   "cell_type": "code",
   "execution_count": 4,
   "id": "1fc43ab0-b516-4592-8099-e1b7d33c48a8",
   "metadata": {},
   "outputs": [
    {
     "data": {
      "text/plain": [
       "30"
      ]
     },
     "execution_count": 4,
     "metadata": {},
     "output_type": "execute_result"
    }
   ],
   "source": [
    "y"
   ]
  },
  {
   "cell_type": "code",
   "execution_count": 5,
   "id": "6752bf82-6b98-473e-9152-f276a8b35508",
   "metadata": {},
   "outputs": [
    {
     "name": "stdin",
     "output_type": "stream",
     "text": [
      " 30\n",
      " 50\n"
     ]
    }
   ],
   "source": [
    "#Question 2\n",
    "# A is Area of Reactngle=L*B\n",
    "# Length is L\n",
    "# Breadth is B\n",
    "L=int(input())\n",
    "B=int(input())\n",
    "A=L*B"
   ]
  },
  {
   "cell_type": "code",
   "execution_count": 6,
   "id": "fe512ce4-0ebb-4ac3-9c4a-be87b08f2198",
   "metadata": {},
   "outputs": [
    {
     "data": {
      "text/plain": [
       "1500"
      ]
     },
     "execution_count": 6,
     "metadata": {},
     "output_type": "execute_result"
    }
   ],
   "source": [
    "A"
   ]
  },
  {
   "cell_type": "code",
   "execution_count": 3,
   "id": "23ea6dad-ab31-4c15-b453-64188d1ac5d7",
   "metadata": {},
   "outputs": [
    {
     "name": "stdin",
     "output_type": "stream",
     "text": [
      "Enter the Temperature in Clesius: 45\n"
     ]
    },
    {
     "name": "stdout",
     "output_type": "stream",
     "text": [
      "Temperature in Fahrenheit:  113.0\n"
     ]
    }
   ],
   "source": [
    "#Question 3\n",
    "#Temperature in Celsius is c\n",
    "#Temperature in Fahrenheit is f\n",
    "c=float(input('Enter the Temperature in Clesius:'))\n",
    "f=(c*9/5)+32\n",
    "print('Temperature in Fahrenheit: ',f)"
   ]
  },
  {
   "cell_type": "code",
   "execution_count": 5,
   "id": "ad15f848-dcbf-4acd-884b-00ea68fc3b00",
   "metadata": {},
   "outputs": [
    {
     "name": "stdin",
     "output_type": "stream",
     "text": [
      "Enter a string: Pwskillss\n"
     ]
    },
    {
     "name": "stdout",
     "output_type": "stream",
     "text": [
      "The Length of a String is: 9\n"
     ]
    }
   ],
   "source": [
    "#String based questions\n",
    "#Question 1\n",
    "#a is taking string input from user\n",
    "#b is for calculating the length of a string\n",
    "a=str(input('Enter a string:'))\n",
    "b=len(a)\n",
    "print('The Length of a String is:',b)\n"
   ]
  },
  {
   "cell_type": "code",
   "execution_count": 6,
   "id": "e6e37df7-4e28-46ca-8db8-16f001e484b1",
   "metadata": {},
   "outputs": [
    {
     "name": "stdin",
     "output_type": "stream",
     "text": [
      " aftab\n"
     ]
    },
    {
     "name": "stdout",
     "output_type": "stream",
     "text": [
      "Number of Vowels in this sentence: 2\n"
     ]
    }
   ],
   "source": [
    "#Question 2\n",
    "#a is the sentence from the user input\n",
    "a=str(input())\n",
    "vowel_count=0\n",
    "vowels={'a','e','i','o','u'}\n",
    "for char in a:\n",
    "    char=char.lower()\n",
    "    if char in vowels:\n",
    "        vowel_count+=1\n",
    "print('Number of Vowels in this sentence:',vowel_count)\n",
    "    \n",
    "    \n",
    "    \n",
    "\n",
    "\n"
   ]
  },
  {
   "cell_type": "code",
   "execution_count": 9,
   "id": "f20bbdce-c554-4932-8be7-03b51b74256f",
   "metadata": {},
   "outputs": [
    {
     "name": "stdout",
     "output_type": "stream",
     "text": [
      "batfa\n"
     ]
    }
   ],
   "source": [
    "#question 3\n",
    "a='aftab'\n",
    "b=a[::-1]\n",
    "print(b)\n"
   ]
  },
  {
   "cell_type": "code",
   "execution_count": 13,
   "id": "6773d7fd-da19-48d9-b1cf-73d23bfd253d",
   "metadata": {},
   "outputs": [
    {
     "name": "stdin",
     "output_type": "stream",
     "text": [
      "Enter the String aftab\n"
     ]
    },
    {
     "name": "stdout",
     "output_type": "stream",
     "text": [
      "The string is not a palindrom\n"
     ]
    }
   ],
   "source": [
    "#Question 4\n",
    "a=str(input('Enter the String'))\n",
    "b=a[::-1]\n",
    "if a==b:\n",
    "    print('The string is a palindrome')\n",
    "else:\n",
    "    print('The string is not a palindrom')\n",
    "\n",
    "    \n",
    "\n"
   ]
  },
  {
   "cell_type": "code",
   "execution_count": 14,
   "id": "d3cc9c85-f3ec-4cd2-9a0e-b3b41fdaa4e8",
   "metadata": {},
   "outputs": [
    {
     "data": {
      "text/plain": [
       "'batfa'"
      ]
     },
     "execution_count": 14,
     "metadata": {},
     "output_type": "execute_result"
    }
   ],
   "source": [
    "b"
   ]
  },
  {
   "cell_type": "code",
   "execution_count": 16,
   "id": "5b690eec-de06-461e-a33f-297734cf25d1",
   "metadata": {},
   "outputs": [
    {
     "name": "stdin",
     "output_type": "stream",
     "text": [
      "Enter a string: aftab nadaf\n"
     ]
    },
    {
     "name": "stdout",
     "output_type": "stream",
     "text": [
      "aftabnadaf\n"
     ]
    }
   ],
   "source": [
    "a=str(input('Enter a string:'))\n",
    "b=a.replace(' ','')\n",
    "print(b)\n"
   ]
  },
  {
   "cell_type": "code",
   "execution_count": null,
   "id": "d564bc4d-f67d-41ce-8e6a-0fee1b41f79b",
   "metadata": {},
   "outputs": [],
   "source": []
  }
 ],
 "metadata": {
  "kernelspec": {
   "display_name": "Python 3 (ipykernel)",
   "language": "python",
   "name": "python3"
  },
  "language_info": {
   "codemirror_mode": {
    "name": "ipython",
    "version": 3
   },
   "file_extension": ".py",
   "mimetype": "text/x-python",
   "name": "python",
   "nbconvert_exporter": "python",
   "pygments_lexer": "ipython3",
   "version": "3.10.8"
  }
 },
 "nbformat": 4,
 "nbformat_minor": 5
}
